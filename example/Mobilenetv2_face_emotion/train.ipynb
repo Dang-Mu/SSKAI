{
 "cells": [
  {
   "cell_type": "code",
   "execution_count": 1,
   "metadata": {},
   "outputs": [],
   "source": [
    "# 전처리\n",
    "import pickle\n",
    "import numpy as np\n",
    "import torch\n",
    "from torch.utils.data import DataLoader, TensorDataset, random_split\n",
    "\n",
    "def load_cifar_batch(filename):\n",
    "    with open(filename, 'rb') as file:\n",
    "        batch = pickle.load(file, encoding='latin1')\n",
    "    # 이미지 데이터 재배열: [num_samples, 3, 32, 32]\n",
    "    features = batch['data'].reshape((len(batch['data']), 3, 32, 32)).transpose(0, 2, 3, 1)\n",
    "    labels = batch['labels']\n",
    "    return features, labels\n",
    "\n",
    "def create_datasets(data_paths, test_path):\n",
    "    # 데이터를 로드하고 하나의 큰 훈련 데이터셋으로 결합\n",
    "    train_features = []\n",
    "    train_labels = []\n",
    "    for path in data_paths:\n",
    "        features, labels = load_cifar_batch(path)\n",
    "        train_features.append(features)\n",
    "        train_labels.append(labels)\n",
    "    train_features = np.concatenate(train_features)\n",
    "    train_labels = np.concatenate(train_labels)\n",
    "    \n",
    "    # 테스트 데이터 로드\n",
    "    test_features, test_labels = load_cifar_batch(test_path)\n",
    "\n",
    "    # numpy 배열을 PyTorch 텐서로 변환\n",
    "    train_features = torch.tensor(train_features).permute(0, 3, 1, 2).float() / 255.0\n",
    "    train_labels = torch.tensor(train_labels).long()\n",
    "    test_features = torch.tensor(test_features).permute(0, 3, 1, 2).float() / 255.0\n",
    "    test_labels = torch.tensor(test_labels).long()\n",
    "    \n",
    "    # TensorDataset 생성\n",
    "    train_dataset = TensorDataset(train_features, train_labels)\n",
    "    test_dataset = TensorDataset(test_features, test_labels)\n",
    "    return train_dataset, test_dataset\n",
    "\n",
    "# 파일 경로 설정\n",
    "data_paths = [f'cifar-10-batches-py/data_batch_{i}' for i in range(1, 6)]\n",
    "test_path = 'cifar-10-batches-py/test_batch'\n",
    "\n",
    "# 데이터셋 생성\n",
    "train_dataset, test_dataset = create_datasets(data_paths, test_path)\n",
    "\n",
    "# DataLoader 생성 예\n",
    "train_loader = DataLoader(train_dataset, batch_size=64, shuffle=True)\n",
    "test_loader = DataLoader(test_dataset, batch_size=64, shuffle=False)\n"
   ]
  },
  {
   "cell_type": "code",
   "execution_count": 2,
   "metadata": {},
   "outputs": [],
   "source": [
    "# 학습\n",
    "import torch\n",
    "from torch import nn, optim"
   ]
  },
  {
   "cell_type": "code",
   "execution_count": 3,
   "metadata": {},
   "outputs": [
    {
     "name": "stderr",
     "output_type": "stream",
     "text": [
      "/home/swjeong/swjeong/swjenv/lib/python3.11/site-packages/tqdm/auto.py:21: TqdmWarning: IProgress not found. Please update jupyter and ipywidgets. See https://ipywidgets.readthedocs.io/en/stable/user_install.html\n",
      "  from .autonotebook import tqdm as notebook_tqdm\n",
      "/home/swjeong/swjeong/swjenv/lib/python3.11/site-packages/torch/nn/modules/conv.py:456: UserWarning: Plan failed with a cudnnException: CUDNN_BACKEND_EXECUTION_PLAN_DESCRIPTOR: cudnnFinalize Descriptor Failed cudnn_status: CUDNN_STATUS_NOT_SUPPORTED (Triggered internally at ../aten/src/ATen/native/cudnn/Conv_v8.cpp:919.)\n",
      "  return F.conv2d(input, weight, bias, self.stride,\n",
      "/home/swjeong/swjeong/swjenv/lib/python3.11/site-packages/torch/autograd/graph.py:744: UserWarning: Plan failed with a cudnnException: CUDNN_BACKEND_EXECUTION_PLAN_DESCRIPTOR: cudnnFinalize Descriptor Failed cudnn_status: CUDNN_STATUS_NOT_SUPPORTED (Triggered internally at ../aten/src/ATen/native/cudnn/Conv_v8.cpp:919.)\n",
      "  return Variable._execution_engine.run_backward(  # Calls into the C++ engine to run the backward pass\n"
     ]
    },
    {
     "name": "stdout",
     "output_type": "stream",
     "text": [
      "Epoch 0, Loss: 1.4303537471520016\n",
      "Test Accuracy: 59.51%\n",
      "Epoch 1, Loss: 0.8351202780557105\n",
      "Test Accuracy: 69.48%\n",
      "Epoch 2, Loss: 0.6135322963413985\n",
      "Test Accuracy: 77.36%\n",
      "Epoch 3, Loss: 0.4773394625319544\n",
      "Test Accuracy: 79.37%\n",
      "Epoch 4, Loss: 0.3824448018046596\n",
      "Test Accuracy: 78.43%\n",
      "Epoch 5, Loss: 0.31271432585957104\n",
      "Test Accuracy: 80.39%\n",
      "Epoch 6, Loss: 0.24858952629025025\n",
      "Test Accuracy: 80.82%\n",
      "Epoch 7, Loss: 0.2060038364442337\n",
      "Test Accuracy: 81.37%\n",
      "Epoch 8, Loss: 0.16349902953666723\n",
      "Test Accuracy: 81.06%\n",
      "Epoch 9, Loss: 0.13853420683270906\n",
      "Test Accuracy: 80.36%\n"
     ]
    }
   ],
   "source": [
    "from model import ModelClass\n",
    "\n",
    "device = torch.device('cuda' if torch.cuda.is_available() else 'cpu')\n",
    "model = ModelClass()\n",
    "model.to(device)\n",
    "\n",
    "criteration = nn.CrossEntropyLoss()\n",
    "optimizer = optim.SGD(model.parameters(), lr=0.01, momentum=0.9, weight_decay=5e-4)\n",
    "\n",
    "epochs = 10\n",
    "# 학습 로직\n",
    "for epoch in range(epochs):\n",
    "    model.train()\n",
    "    total_loss = 0\n",
    "    for data, targets in train_loader:\n",
    "        data, targets = data.to(device), targets.to(device)\n",
    "        optimizer.zero_grad()\n",
    "        outputs = model(data)\n",
    "        loss = criteration(outputs, targets)\n",
    "        loss.backward()\n",
    "        optimizer.step()\n",
    "        total_loss += loss.item()\n",
    "    print(f\"Epoch {epoch}, Loss: {total_loss / len(train_loader)}\")\n",
    "\n",
    "    # 성능 테스트\n",
    "    model.eval()\n",
    "    total_correct = 0\n",
    "    total = 0\n",
    "    with torch.no_grad():\n",
    "        for data, targets in test_loader:\n",
    "            data, targets = data.to(device), targets.to(device)\n",
    "            outputs = model(data)\n",
    "            _, predicted = torch.max(outputs, 1)\n",
    "            total_correct += (predicted == targets).sum().item()\n",
    "            total += targets.size(0)\n",
    "    accuracy = 100 * total_correct / total\n",
    "    print(f\"Test Accuracy: {accuracy:.2f}%\")"
   ]
  },
  {
   "cell_type": "code",
   "execution_count": 4,
   "metadata": {},
   "outputs": [],
   "source": [
    "torch.save(model.state_dict(), 'torch.pt')"
   ]
  },
  {
   "cell_type": "code",
   "execution_count": 9,
   "metadata": {},
   "outputs": [
    {
     "name": "stdout",
     "output_type": "stream",
     "text": [
      "Label: 9 Inference Result: 9\n",
      "Label: 2 Inference Result: 2\n",
      "Label: 1 Inference Result: 1\n",
      "Label: 3 Inference Result: 5\n",
      "Label: 7 Inference Result: 7\n",
      "Label: 3 Inference Result: 7\n",
      "Label: 7 Inference Result: 7\n",
      "Label: 0 Inference Result: 0\n",
      "Label: 9 Inference Result: 9\n",
      "Label: 9 Inference Result: 9\n"
     ]
    }
   ],
   "source": [
    "# 추론\n",
    "import random\n",
    "\n",
    "# test 데이터셋에서 10개의 샘플을 무작위로 선택\n",
    "random.seed(42)\n",
    "samples = random.sample(range(len(test_dataset)), k=10)\n",
    "\n",
    "# 선택된 샘플에 대해 라벨 출력 및 모델 추론\n",
    "for sample in samples:\n",
    "    data, target = test_dataset[sample]\n",
    "    data = data.to(device)\n",
    "    model.eval()\n",
    "    with torch.no_grad():\n",
    "        output = model(data.unsqueeze(0))\n",
    "        _, predicted = torch.max(output, 1)\n",
    "    print(\"Label:\", target.item(), \"Inference Result:\", predicted.item())"
   ]
  },
  {
   "cell_type": "code",
   "execution_count": null,
   "metadata": {},
   "outputs": [],
   "source": []
  }
 ],
 "metadata": {
  "kernelspec": {
   "display_name": "swjenv",
   "language": "python",
   "name": "python3"
  },
  "language_info": {
   "codemirror_mode": {
    "name": "ipython",
    "version": 3
   },
   "file_extension": ".py",
   "mimetype": "text/x-python",
   "name": "python",
   "nbconvert_exporter": "python",
   "pygments_lexer": "ipython3",
   "version": "3.11.9"
  }
 },
 "nbformat": 4,
 "nbformat_minor": 2
}
